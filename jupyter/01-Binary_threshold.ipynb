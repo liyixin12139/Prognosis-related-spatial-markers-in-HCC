{
 "cells": [
  {
   "cell_type": "code",
   "execution_count": 1,
   "id": "e35478c57f6d2890",
   "metadata": {
    "ExecuteTime": {
     "end_time": "2025-06-05T04:37:27.505476Z",
     "start_time": "2025-06-05T04:37:27.504216Z"
    },
    "collapsed": false
   },
   "outputs": [],
   "source": [
    "import os\n",
    "import numpy as np\n",
    "import pandas as pd\n",
    "import matplotlib.pyplot as plt\n",
    "import seaborn as sns"
   ]
  },
  {
   "cell_type": "code",
   "execution_count": null,
   "id": "b12fb282c51e608e",
   "metadata": {
    "ExecuteTime": {
     "end_time": "2025-06-05T04:37:31.351833Z",
     "start_time": "2025-06-05T04:37:29.070690Z"
    },
    "collapsed": false
   },
   "outputs": [],
   "source": [
    "features_path='./01-data/06-features/'\n",
    "sum=0\n",
    "for slide in os.listdir(features_path):\n",
    "    sum+=len(os.listdir(os.path.join(features_path,slide)))\n",
    "# 6042668"
   ]
  },
  {
   "cell_type": "code",
   "execution_count": null,
   "id": "b4f22502f084a14",
   "metadata": {
    "ExecuteTime": {
     "end_time": "2025-03-26T13:02:26.366290Z",
     "start_time": "2025-03-26T13:02:11.860336Z"
    },
    "collapsed": false
   },
   "outputs": [
    {
     "name": "stdout",
     "output_type": "stream",
     "text": [
      "随机抽取的文件数：10000\n",
      "/2data/liyixin/03-PPS与空间基因相关性分析/01-data/06-features/TCGA-DD-A73B-01Z-00-DX2/patch_2137.json\n",
      "/2data/liyixin/03-PPS与空间基因相关性分析/01-data/06-features/TCGA-RC-A7SH-01Z-00-DX1/patch_951.json\n",
      "/2data/liyixin/03-PPS与空间基因相关性分析/01-data/06-features/TCGA-DD-AACC-01Z-00-DX1/patch_14069.json\n",
      "/2data/liyixin/03-PPS与空间基因相关性分析/01-data/06-features/TCGA-DD-A116-01Z-00-DX1/patch_23230.json\n",
      "/2data/liyixin/03-PPS与空间基因相关性分析/01-data/06-features/TCGA-G3-A5SL-01Z-00-DX1/patch_12855.json\n",
      "/2data/liyixin/03-PPS与空间基因相关性分析/01-data/06-features/TCGA-DD-A4ND-01Z-00-DX1/patch_9093.json\n",
      "/2data/liyixin/03-PPS与空间基因相关性分析/01-data/06-features/TCGA-FV-A4ZP-01Z-00-DX1/patch_1531.json\n",
      "/2data/liyixin/03-PPS与空间基因相关性分析/01-data/06-features/TCGA-DD-A1EC-01Z-00-DX1/patch_2035.json\n",
      "/2data/liyixin/03-PPS与空间基因相关性分析/01-data/06-features/TCGA-MI-A75E-01Z-00-DX2/patch_25564.json\n",
      "/2data/liyixin/03-PPS与空间基因相关性分析/01-data/06-features/TCGA-ED-A8O5-01Z-00-DX1/patch_19290.json\n"
     ]
    }
   ],
   "source": [
    "#select random patches\n",
    "import random\n",
    "def reservoir_sampling(root_dir, k=10000):\n",
    "    reservoir = []  \n",
    "    count = 0      \n",
    "\n",
    "    for dirpath, dirnames, filenames in os.walk(root_dir):\n",
    "        for filename in filenames:\n",
    "            filepath = os.path.join(dirpath, filename)\n",
    "            count += 1\n",
    "            if len(reservoir) < k:\n",
    "                reservoir.append(filepath)\n",
    "            else:\n",
    "                j = random.randint(0, count - 1)\n",
    "                if j < k:\n",
    "                    reservoir[j] = filepath\n",
    "    return reservoir\n",
    "\n",
    "root_dir = './01-data/06-features/'  \n",
    "selected_files = reservoir_sampling(root_dir, k=10000)\n",
    "print(f\"随机抽取的文件数：{len(selected_files)}\")\n",
    "for file in selected_files[:10]:\n",
    "    print(file)"
   ]
  },
  {
   "cell_type": "code",
   "execution_count": null,
   "id": "c44fdd1ed9d7620f",
   "metadata": {
    "ExecuteTime": {
     "end_time": "2025-06-05T04:37:39.289417Z",
     "start_time": "2025-06-05T04:37:36.353029Z"
    },
    "collapsed": false
   },
   "outputs": [
    {
     "name": "stdout",
     "output_type": "stream",
     "text": [
      "矩阵形状: (10000, 183)\n"
     ]
    }
   ],
   "source": [
    "import concurrent.futures\n",
    "import json\n",
    "key_to_extract = 'exp'  \n",
    "\n",
    "def extract_vector(file_path):\n",
    "    try:\n",
    "        with open(file_path, 'r', encoding='utf-8') as f:\n",
    "            data = json.load(f)\n",
    "        vector = data.get(key_to_extract)\n",
    "        if isinstance(vector, list) and len(vector) == 183:\n",
    "            return vector\n",
    "        else:\n",
    "            print(f\"文件 {file_path} 中键 '{key_to_extract}' 不存在或其值不是长度为183的列表。\")\n",
    "            return None\n",
    "    except Exception as e:\n",
    "        print(f\"处理文件 {file_path} 时出错: {e}\")\n",
    "        return None\n",
    "\n",
    "results = []\n",
    "with concurrent.futures.ThreadPoolExecutor(max_workers=8) as executor:\n",
    "    for vector in executor.map(extract_vector, selected_files):\n",
    "        if vector is not None:\n",
    "            results.append(vector)\n",
    "\n",
    "matrix = np.array(results)\n",
    "print(\"矩阵形状:\", matrix.shape)"
   ]
  },
  {
   "cell_type": "code",
   "execution_count": null,
   "id": "bca9f4777149bec4",
   "metadata": {
    "ExecuteTime": {
     "end_time": "2025-06-05T04:39:25.020082Z",
     "start_time": "2025-06-05T04:39:25.007322Z"
    },
    "collapsed": false
   },
   "outputs": [
    {
     "data": {
      "text/plain": [
       "[59,\n",
       " 81,\n",
       " 26,\n",
       " 105,\n",
       " 143,\n",
       " 150,\n",
       " 7,\n",
       " 5,\n",
       " 134,\n",
       " 123,\n",
       " 173,\n",
       " 159,\n",
       " 8,\n",
       " 122,\n",
       " 153,\n",
       " 32,\n",
       " 40,\n",
       " 3,\n",
       " 72,\n",
       " 42,\n",
       " 20,\n",
       " 139,\n",
       " 68,\n",
       " 152,\n",
       " 13,\n",
       " 87]"
      ]
     },
     "execution_count": 5,
     "metadata": {},
     "output_type": "execute_result"
    }
   ],
   "source": [
    "#find gene_idx in gene_list\n",
    "sig_genes=['DES',\n",
    "'FOXP3',\n",
    "'CD19',\n",
    "'IL1RL1',\n",
    "'PDPN',\n",
    "'RERGL',\n",
    "'ANGPT2',\n",
    "'ALDH1A3',\n",
    "'MYH11',\n",
    "'MALL',\n",
    "'THY1',\n",
    "'SFRP4',\n",
    "'APOLD1',\n",
    "'LYVE1',\n",
    "'RNASE1',\n",
    "'CD34',\n",
    "'CD93',\n",
    "'ADAMTS1',\n",
    "'FBN1',\n",
    "'CFHR1',\n",
    "'CAVIN1',\n",
    "'NOP53',\n",
    "'EPAS1',\n",
    "'RHOA',\n",
    "'BTF3',\n",
    "'GNAS']\n",
    "\n",
    "gene_list_path = './01-data/04-Liver/liver_hvg_cut_200_minus3.npy'\n",
    "gene_list = list(np.load(gene_list_path))\n",
    "sig_gene_index=[gene_list.index(i) for i in sig_genes]\n",
    "sig_gene_index"
   ]
  },
  {
   "cell_type": "code",
   "execution_count": null,
   "id": "82335ce1c8e3122a",
   "metadata": {
    "ExecuteTime": {
     "end_time": "2025-06-05T04:40:41.653194Z",
     "start_time": "2025-06-05T04:40:28.666708Z"
    },
    "collapsed": false
   },
   "outputs": [],
   "source": [
    "#find binary threshold by GMM\n",
    "import numpy as np\n",
    "import matplotlib.pyplot as plt\n",
    "from sklearn.mixture import GaussianMixture\n",
    "\n",
    "fig, axes = plt.subplots(6, 5, figsize=(20, 20))\n",
    "axes = axes.flatten()\n",
    "thresholds={}\n",
    "for i, col in enumerate(sig_gene_index):\n",
    "    sorted_feature = np.sort(matrix[:, col])\n",
    "    axes[i].plot(sorted_feature, marker='o', linestyle='-', color='b')\n",
    "    sorted_feature=sorted_feature.reshape(-1,1)\n",
    "    gmm = GaussianMixture(n_components=2, covariance_type='full')\n",
    "    gmm.fit(sorted_feature)\n",
    "    means = gmm.means_.flatten()\n",
    "\n",
    "    threshold = np.mean(means)\n",
    "    axes[i].axhline(y=threshold, color='red', linestyle='--', label=f'Threshold = {threshold:.2f}')\n",
    "    \n",
    "    gene_name = gene_list[col] \n",
    "    thresholds[gene_name]=threshold\n",
    "    axes[i].set_title(f'${gene_name}$', fontsize=18) \n",
    "    axes[i].grid(True)\n",
    "    axes[i].legend()\n",
    "\n",
    "for j in range(i + 1, len(axes)):\n",
    "    fig.delaxes(axes[j])\n",
    "\n",
    "plt.tight_layout()\n",
    "# plt.show()\n",
    "plt.savefig(\"./03-results/02-threshold/05-GMM_threshold.png\", dpi=300, bbox_inches='tight')\n",
    "plt.close()\n"
   ]
  },
  {
   "cell_type": "code",
   "execution_count": null,
   "id": "6b9f0f3d341365e3",
   "metadata": {
    "ExecuteTime": {
     "end_time": "2025-06-02T15:28:33.050145Z",
     "start_time": "2025-06-02T15:28:33.026952Z"
    },
    "collapsed": false
   },
   "outputs": [],
   "source": [
    "#保存用GMM自动选择的阈值结果\n",
    "with open('./03-results/02-threshold//05-GMM-autoselect-thresholds.json','w') as f:\n",
    "    json.dump(thresholds,f)"
   ]
  }
 ],
 "metadata": {
  "kernelspec": {
   "display_name": "Python [conda env:pps-spatial]",
   "language": "python",
   "name": "conda-env-pps-spatial-py"
  },
  "language_info": {
   "codemirror_mode": {
    "name": "ipython",
    "version": 2
   },
   "file_extension": ".py",
   "mimetype": "text/x-python",
   "name": "python",
   "nbconvert_exporter": "python",
   "pygments_lexer": "ipython2",
   "version": "2.7.6"
  }
 },
 "nbformat": 4,
 "nbformat_minor": 5
}
